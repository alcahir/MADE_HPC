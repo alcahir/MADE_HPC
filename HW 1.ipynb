{
 "cells": [
  {
   "cell_type": "code",
   "execution_count": 151,
   "id": "7ada6906",
   "metadata": {
    "ExecuteTime": {
     "end_time": "2022-10-10T19:24:25.243221Z",
     "start_time": "2022-10-10T19:24:25.235261Z"
    }
   },
   "outputs": [],
   "source": [
    "import pandas as pd\n",
    "import numpy as np\n",
    "\n",
    "# Import matplotlib and set the style\n",
    "import matplotlib.pyplot as plt\n",
    "%matplotlib inline\n",
    "plt.style.use('seaborn-darkgrid')\n",
    "\n",
    "# Import plot_acf from statsmodels\n",
    "from statsmodels.graphics.tsaplots import plot_acf"
   ]
  },
  {
   "cell_type": "code",
   "execution_count": 166,
   "id": "38dbb647",
   "metadata": {
    "ExecuteTime": {
     "end_time": "2022-10-10T19:26:15.010959Z",
     "start_time": "2022-10-10T19:26:14.957820Z"
    }
   },
   "outputs": [
    {
     "name": "stdout",
     "output_type": "stream",
     "text": [
      " Volume in drive C is Windows\n",
      " Volume Serial Number is 76F5-E995\n",
      "\n",
      " Directory of C:\\Users\\Egor_Pilat\\Desktop\\MADE\\HPC\n",
      "\n",
      "10/10/2022  10:25 PM    <DIR>          .\n",
      "10/10/2022  10:25 PM    <DIR>          ..\n",
      "10/10/2022  10:25 PM    <DIR>          .ipynb_checkpoints\n",
      "10/10/2022  10:25 PM            85,629 HW 1.ipynb\n",
      "10/10/2022  05:06 PM            14,075 top500.json\n",
      "10/10/2022  04:50 PM           122,539 TOP500_202206.xlsx\n",
      "               3 File(s)        222,243 bytes\n",
      "               3 Dir(s)  152,359,505,920 bytes free\n"
     ]
    }
   ],
   "source": [
    "%ls"
   ]
  },
  {
   "cell_type": "markdown",
   "id": "859ad320",
   "metadata": {},
   "source": [
    "## Задача 1 "
   ]
  },
  {
   "cell_type": "code",
   "execution_count": 152,
   "id": "9fadd03b",
   "metadata": {
    "ExecuteTime": {
     "end_time": "2022-10-10T19:24:25.571288Z",
     "start_time": "2022-10-10T19:24:25.525866Z"
    }
   },
   "outputs": [],
   "source": [
    "js = pd.read_json(\"top500.json\").T"
   ]
  },
  {
   "cell_type": "code",
   "execution_count": 153,
   "id": "b874668b",
   "metadata": {
    "ExecuteTime": {
     "end_time": "2022-10-10T19:24:25.835342Z",
     "start_time": "2022-10-10T19:24:25.812382Z"
    }
   },
   "outputs": [],
   "source": [
    "js = js.iloc[1::2]\n",
    "js['#1'] = js['#1'].map(lambda x: x[0])"
   ]
  },
  {
   "cell_type": "code",
   "execution_count": 154,
   "id": "558bbe72",
   "metadata": {
    "ExecuteTime": {
     "end_time": "2022-10-10T19:24:26.222137Z",
     "start_time": "2022-10-10T19:24:26.195175Z"
    }
   },
   "outputs": [
    {
     "data": {
      "text/html": [
       "<div>\n",
       "<style scoped>\n",
       "    .dataframe tbody tr th:only-of-type {\n",
       "        vertical-align: middle;\n",
       "    }\n",
       "\n",
       "    .dataframe tbody tr th {\n",
       "        vertical-align: top;\n",
       "    }\n",
       "\n",
       "    .dataframe thead th {\n",
       "        text-align: right;\n",
       "    }\n",
       "</style>\n",
       "<table border=\"1\" class=\"dataframe\">\n",
       "  <thead>\n",
       "    <tr style=\"text-align: right;\">\n",
       "      <th></th>\n",
       "      <th>Sum</th>\n",
       "      <th>#1</th>\n",
       "      <th>#500</th>\n",
       "    </tr>\n",
       "  </thead>\n",
       "  <tbody>\n",
       "    <tr>\n",
       "      <th>1993-11-01</th>\n",
       "      <td>[1500.0, GFlop/s]</td>\n",
       "      <td>124.0</td>\n",
       "      <td>[0.5, GFlop/s]</td>\n",
       "    </tr>\n",
       "    <tr>\n",
       "      <th>1994-11-01</th>\n",
       "      <td>[2700.0, GFlop/s]</td>\n",
       "      <td>170.0</td>\n",
       "      <td>[1.2, GFlop/s]</td>\n",
       "    </tr>\n",
       "    <tr>\n",
       "      <th>1995-11-01</th>\n",
       "      <td>[4800.0, GFlop/s]</td>\n",
       "      <td>170.0</td>\n",
       "      <td>[2.5, GFlop/s]</td>\n",
       "    </tr>\n",
       "    <tr>\n",
       "      <th>1996-11-01</th>\n",
       "      <td>[8000.0, GFlop/s]</td>\n",
       "      <td>368.2</td>\n",
       "      <td>[4.6, GFlop/s]</td>\n",
       "    </tr>\n",
       "    <tr>\n",
       "      <th>1997-11-01</th>\n",
       "      <td>[16900.0, GFlop/s]</td>\n",
       "      <td>1300.0</td>\n",
       "      <td>[9.5, GFlop/s]</td>\n",
       "    </tr>\n",
       "    <tr>\n",
       "      <th>1998-11-01</th>\n",
       "      <td>[29400.0, GFlop/s]</td>\n",
       "      <td>1300.0</td>\n",
       "      <td>[17.1, GFlop/s]</td>\n",
       "    </tr>\n",
       "    <tr>\n",
       "      <th>1999-11-01</th>\n",
       "      <td>[50900.0, GFlop/s]</td>\n",
       "      <td>2400.0</td>\n",
       "      <td>[33.1, GFlop/s]</td>\n",
       "    </tr>\n",
       "    <tr>\n",
       "      <th>2000-11-01</th>\n",
       "      <td>[88100.0, GFlop/s]</td>\n",
       "      <td>4900.0</td>\n",
       "      <td>[55.3, GFlop/s]</td>\n",
       "    </tr>\n",
       "    <tr>\n",
       "      <th>2001-11-01</th>\n",
       "      <td>[135000.0, GFlop/s]</td>\n",
       "      <td>7200.0</td>\n",
       "      <td>[94.3, GFlop/s]</td>\n",
       "    </tr>\n",
       "    <tr>\n",
       "      <th>2002-11-01</th>\n",
       "      <td>[291800.0, GFlop/s]</td>\n",
       "      <td>35900.0</td>\n",
       "      <td>[195.8, GFlop/s]</td>\n",
       "    </tr>\n",
       "    <tr>\n",
       "      <th>2003-11-01</th>\n",
       "      <td>[526700.0, GFlop/s]</td>\n",
       "      <td>35900.0</td>\n",
       "      <td>[378.6, GFlop/s]</td>\n",
       "    </tr>\n",
       "    <tr>\n",
       "      <th>2004-11-01</th>\n",
       "      <td>[1100000.0, GFlop/s]</td>\n",
       "      <td>70700.0</td>\n",
       "      <td>[840.0, GFlop/s]</td>\n",
       "    </tr>\n",
       "    <tr>\n",
       "      <th>2005-11-01</th>\n",
       "      <td>[2300000.0, GFlop/s]</td>\n",
       "      <td>280600.0</td>\n",
       "      <td>[1600.0, GFlop/s]</td>\n",
       "    </tr>\n",
       "    <tr>\n",
       "      <th>2006-11-01</th>\n",
       "      <td>[3500000.0, GFlop/s]</td>\n",
       "      <td>280600.0</td>\n",
       "      <td>[2700.0, GFlop/s]</td>\n",
       "    </tr>\n",
       "    <tr>\n",
       "      <th>2007-11-01</th>\n",
       "      <td>[7000000.0, GFlop/s]</td>\n",
       "      <td>478200.0</td>\n",
       "      <td>[5900.0, GFlop/s]</td>\n",
       "    </tr>\n",
       "    <tr>\n",
       "      <th>2008-11-01</th>\n",
       "      <td>[17400000.0, GFlop/s]</td>\n",
       "      <td>1100000.0</td>\n",
       "      <td>[12600.0, GFlop/s]</td>\n",
       "    </tr>\n",
       "    <tr>\n",
       "      <th>2009-11-01</th>\n",
       "      <td>[28000000.0, GFlop/s]</td>\n",
       "      <td>1800000.0</td>\n",
       "      <td>[20100.0, GFlop/s]</td>\n",
       "    </tr>\n",
       "    <tr>\n",
       "      <th>2010-11-01</th>\n",
       "      <td>[43800000.0, GFlop/s]</td>\n",
       "      <td>2600000.0</td>\n",
       "      <td>[31100.0, GFlop/s]</td>\n",
       "    </tr>\n",
       "    <tr>\n",
       "      <th>2011-11-01</th>\n",
       "      <td>[74100000.0, GFlop/s]</td>\n",
       "      <td>10500000.0</td>\n",
       "      <td>[50900.0, GFlop/s]</td>\n",
       "    </tr>\n",
       "    <tr>\n",
       "      <th>2012-11-01</th>\n",
       "      <td>[162100000.0, GFlop/s]</td>\n",
       "      <td>17600000.0</td>\n",
       "      <td>[76400.0, GFlop/s]</td>\n",
       "    </tr>\n",
       "    <tr>\n",
       "      <th>2013-11-01</th>\n",
       "      <td>[255000000.0, GFlop/s]</td>\n",
       "      <td>33900000.0</td>\n",
       "      <td>[118000.0, GFlop/s]</td>\n",
       "    </tr>\n",
       "    <tr>\n",
       "      <th>2014-11-01</th>\n",
       "      <td>[313000000.0, GFlop/s]</td>\n",
       "      <td>33900000.0</td>\n",
       "      <td>[153400.0, GFlop/s]</td>\n",
       "    </tr>\n",
       "    <tr>\n",
       "      <th>2015-11-01</th>\n",
       "      <td>[422600000.0, GFlop/s]</td>\n",
       "      <td>33900000.0</td>\n",
       "      <td>[206400.0, GFlop/s]</td>\n",
       "    </tr>\n",
       "    <tr>\n",
       "      <th>2016-11-01</th>\n",
       "      <td>[676800000.0, GFlop/s]</td>\n",
       "      <td>93000000.0</td>\n",
       "      <td>[350400.0, GFlop/s]</td>\n",
       "    </tr>\n",
       "    <tr>\n",
       "      <th>2017-11-01</th>\n",
       "      <td>[849600000.0, GFlop/s]</td>\n",
       "      <td>93000000.0</td>\n",
       "      <td>[548700.0, GFlop/s]</td>\n",
       "    </tr>\n",
       "    <tr>\n",
       "      <th>2018-11-01</th>\n",
       "      <td>[1400000000.0, GFlop/s]</td>\n",
       "      <td>143500000.0</td>\n",
       "      <td>[874800.0, GFlop/s]</td>\n",
       "    </tr>\n",
       "    <tr>\n",
       "      <th>2019-11-01</th>\n",
       "      <td>[1600000000.0, GFlop/s]</td>\n",
       "      <td>148600000.0</td>\n",
       "      <td>[1100000.0, GFlop/s]</td>\n",
       "    </tr>\n",
       "    <tr>\n",
       "      <th>2020-11-01</th>\n",
       "      <td>[2400000000.0, GFlop/s]</td>\n",
       "      <td>442000000.0</td>\n",
       "      <td>[1300000.0, GFlop/s]</td>\n",
       "    </tr>\n",
       "    <tr>\n",
       "      <th>2021-11-01</th>\n",
       "      <td>[3000000000.0, GFlop/s]</td>\n",
       "      <td>442000000.0</td>\n",
       "      <td>[1600000.0, GFlop/s]</td>\n",
       "    </tr>\n",
       "  </tbody>\n",
       "</table>\n",
       "</div>"
      ],
      "text/plain": [
       "                                Sum           #1                  #500\n",
       "1993-11-01        [1500.0, GFlop/s]        124.0        [0.5, GFlop/s]\n",
       "1994-11-01        [2700.0, GFlop/s]        170.0        [1.2, GFlop/s]\n",
       "1995-11-01        [4800.0, GFlop/s]        170.0        [2.5, GFlop/s]\n",
       "1996-11-01        [8000.0, GFlop/s]        368.2        [4.6, GFlop/s]\n",
       "1997-11-01       [16900.0, GFlop/s]       1300.0        [9.5, GFlop/s]\n",
       "1998-11-01       [29400.0, GFlop/s]       1300.0       [17.1, GFlop/s]\n",
       "1999-11-01       [50900.0, GFlop/s]       2400.0       [33.1, GFlop/s]\n",
       "2000-11-01       [88100.0, GFlop/s]       4900.0       [55.3, GFlop/s]\n",
       "2001-11-01      [135000.0, GFlop/s]       7200.0       [94.3, GFlop/s]\n",
       "2002-11-01      [291800.0, GFlop/s]      35900.0      [195.8, GFlop/s]\n",
       "2003-11-01      [526700.0, GFlop/s]      35900.0      [378.6, GFlop/s]\n",
       "2004-11-01     [1100000.0, GFlop/s]      70700.0      [840.0, GFlop/s]\n",
       "2005-11-01     [2300000.0, GFlop/s]     280600.0     [1600.0, GFlop/s]\n",
       "2006-11-01     [3500000.0, GFlop/s]     280600.0     [2700.0, GFlop/s]\n",
       "2007-11-01     [7000000.0, GFlop/s]     478200.0     [5900.0, GFlop/s]\n",
       "2008-11-01    [17400000.0, GFlop/s]    1100000.0    [12600.0, GFlop/s]\n",
       "2009-11-01    [28000000.0, GFlop/s]    1800000.0    [20100.0, GFlop/s]\n",
       "2010-11-01    [43800000.0, GFlop/s]    2600000.0    [31100.0, GFlop/s]\n",
       "2011-11-01    [74100000.0, GFlop/s]   10500000.0    [50900.0, GFlop/s]\n",
       "2012-11-01   [162100000.0, GFlop/s]   17600000.0    [76400.0, GFlop/s]\n",
       "2013-11-01   [255000000.0, GFlop/s]   33900000.0   [118000.0, GFlop/s]\n",
       "2014-11-01   [313000000.0, GFlop/s]   33900000.0   [153400.0, GFlop/s]\n",
       "2015-11-01   [422600000.0, GFlop/s]   33900000.0   [206400.0, GFlop/s]\n",
       "2016-11-01   [676800000.0, GFlop/s]   93000000.0   [350400.0, GFlop/s]\n",
       "2017-11-01   [849600000.0, GFlop/s]   93000000.0   [548700.0, GFlop/s]\n",
       "2018-11-01  [1400000000.0, GFlop/s]  143500000.0   [874800.0, GFlop/s]\n",
       "2019-11-01  [1600000000.0, GFlop/s]  148600000.0  [1100000.0, GFlop/s]\n",
       "2020-11-01  [2400000000.0, GFlop/s]  442000000.0  [1300000.0, GFlop/s]\n",
       "2021-11-01  [3000000000.0, GFlop/s]  442000000.0  [1600000.0, GFlop/s]"
      ]
     },
     "execution_count": 154,
     "metadata": {},
     "output_type": "execute_result"
    }
   ],
   "source": [
    "js"
   ]
  },
  {
   "cell_type": "code",
   "execution_count": 155,
   "id": "4f16682b",
   "metadata": {
    "ExecuteTime": {
     "end_time": "2022-10-10T19:24:26.581193Z",
     "start_time": "2022-10-10T19:24:26.438229Z"
    }
   },
   "outputs": [
    {
     "data": {
      "image/png": "[encoded data removed]",
      "text/plain": [
       "<Figure size 432x288 with 1 Axes>"
      ]
     },
     "metadata": {},
     "output_type": "display_data"
    }
   ],
   "source": [
    "plt.plot(js[\"#1\"]);"
   ]
  },
  {
   "cell_type": "code",
   "execution_count": 156,
   "id": "48de4c54",
   "metadata": {
    "ExecuteTime": {
     "end_time": "2022-10-10T19:24:27.113466Z",
     "start_time": "2022-10-10T19:24:26.955280Z"
    }
   },
   "outputs": [
    {
     "data": {
      "image/png": "[encoded data removed]",
      "text/plain": [
       "<Figure size 720x504 with 1 Axes>"
      ]
     },
     "metadata": {},
     "output_type": "display_data"
    }
   ],
   "source": [
    "plt.rc(\"figure\", figsize=(10, 7))\n",
    "plot_acf(js['#1'], lags=10)\n",
    "plt.xlabel('Lags', fontsize=12)\n",
    "plt.ylabel('Autocorrelation', fontsize=12)\n",
    "plt.title('Pefromance', fontsize=14)\n",
    "plt.show()"
   ]
  },
  {
   "cell_type": "code",
   "execution_count": 157,
   "id": "c873c3f1",
   "metadata": {
    "ExecuteTime": {
     "end_time": "2022-10-10T19:24:27.846519Z",
     "start_time": "2022-10-10T19:24:27.705385Z"
    }
   },
   "outputs": [
    {
     "data": {
      "image/png": "[encoded data removed]",
      "text/plain": [
       "<Figure size 720x504 with 1 Axes>"
      ]
     },
     "metadata": {},
     "output_type": "display_data"
    }
   ],
   "source": [
    "from statsmodels.graphics.tsaplots import plot_pacf\n",
    "\n",
    "plot_pacf(js['#1'], lags=10)\n",
    "plt.xlabel('Lags', fontsize=12)\n",
    "plt.ylabel('Partial Autocorrelation', fontsize=12)\n",
    "plt.title('Perfomanmce', fontsize=14)\n",
    "plt.show()"
   ]
  },
  {
   "cell_type": "code",
   "execution_count": 158,
   "id": "df4fda90",
   "metadata": {
    "ExecuteTime": {
     "end_time": "2022-10-10T19:24:28.313982Z",
     "start_time": "2022-10-10T19:24:28.294347Z"
    }
   },
   "outputs": [
    {
     "name": "stdout",
     "output_type": "stream",
     "text": [
      "p-value: 0.00\n"
     ]
    }
   ],
   "source": [
    "from statsmodels.tsa.stattools import adfuller\n",
    "\n",
    "result = adfuller(js['#1'])\n",
    "print('p-value: %.2f' % result[1])"
   ]
  },
  {
   "cell_type": "code",
   "execution_count": 159,
   "id": "4b3d106a",
   "metadata": {
    "ExecuteTime": {
     "end_time": "2022-10-10T19:24:29.111964Z",
     "start_time": "2022-10-10T19:24:29.065580Z"
    }
   },
   "outputs": [
    {
     "name": "stdout",
     "output_type": "stream",
     "text": [
      "const       17923070.47\n",
      "ar.L1.#1           1.00\n",
      "dtype: float64\n"
     ]
    },
    {
     "name": "stderr",
     "output_type": "stream",
     "text": [
      "C:\\Users\\Egor_Pilat\\Anaconda3\\lib\\site-packages\\statsmodels\\tsa\\arima_model.py:472: FutureWarning: \n",
      "statsmodels.tsa.arima_model.ARMA and statsmodels.tsa.arima_model.ARIMA have\n",
      "been deprecated in favor of statsmodels.tsa.arima.model.ARIMA (note the .\n",
      "between arima and model) and\n",
      "statsmodels.tsa.SARIMAX. These will be removed after the 0.12 release.\n",
      "\n",
      "statsmodels.tsa.arima.model.ARIMA makes use of the statespace framework and\n",
      "is both well tested and maintained.\n",
      "\n",
      "To silence this warning and continue using ARMA and ARIMA until they are\n",
      "removed, use:\n",
      "\n",
      "import warnings\n",
      "warnings.filterwarnings('ignore', 'statsmodels.tsa.arima_model.ARMA',\n",
      "                        FutureWarning)\n",
      "warnings.filterwarnings('ignore', 'statsmodels.tsa.arima_model.ARIMA',\n",
      "                        FutureWarning)\n",
      "\n",
      "  warnings.warn(ARIMA_DEPRECATION_WARN, FutureWarning)\n",
      "C:\\Users\\Egor_Pilat\\Anaconda3\\lib\\site-packages\\statsmodels\\tsa\\base\\tsa_model.py:524: ValueWarning: No frequency information was provided, so inferred frequency AS-NOV will be used.\n",
      "  warnings.warn('No frequency information was'\n",
      "C:\\Users\\Egor_Pilat\\Anaconda3\\lib\\site-packages\\statsmodels\\base\\model.py:547: HessianInversionWarning: Inverting hessian failed, no bse or cov_params available\n",
      "  warnings.warn('Inverting hessian failed, no bse or cov_params '\n"
     ]
    }
   ],
   "source": [
    "from statsmodels.tsa.arima_model import ARIMA\n",
    "\n",
    "# Train autoregression model of order 1\n",
    "model_fit = ARIMA(js[\"#1\"][:int(len(js)*0.90)], (1, 0, 0)).fit()\n",
    "print(model_fit.params.round(2))"
   ]
  },
  {
   "cell_type": "markdown",
   "id": "206b9aeb",
   "metadata": {},
   "source": [
    "## $$ y(t) = y_{t-1} * 1 + 17923070.47 $$"
   ]
  },
  {
   "cell_type": "code",
   "execution_count": 160,
   "id": "6cf104af",
   "metadata": {
    "ExecuteTime": {
     "end_time": "2022-10-10T19:24:33.942315Z",
     "start_time": "2022-10-10T19:24:33.931285Z"
    }
   },
   "outputs": [
    {
     "name": "stdout",
     "output_type": "stream",
     "text": [
      "В 2022 году ожидается производительность компьютера = 459923070.4692308 GFlop/s\n",
      "В 2023 году ожидается производительность компьютера = 477846140.93846154 GFlop/s\n",
      "В 2024 году ожидается производительность компьютера = 495769211.4076923 GFlop/s\n",
      "В 2025 году ожидается производительность компьютера = 513692281.8769231 GFlop/s\n"
     ]
    }
   ],
   "source": [
    "pred_years = range(2022, 2026)\n",
    "last_year = js.iloc[-1][\"#1\"]\n",
    "\n",
    "for year in pred_years:\n",
    "    pred = model_fit.params.const + last_year\n",
    "    last_year = pred\n",
    "    print(f\"В {year} году ожидается производительность компьютера = {pred} GFlop/s\")"
   ]
  },
  {
   "cell_type": "markdown",
   "id": "75575cc3",
   "metadata": {},
   "source": [
    "### Задача 2"
   ]
  },
  {
   "cell_type": "markdown",
   "id": "7283bd89",
   "metadata": {},
   "source": [
    "#### Суммарное конечное (полезное) потребление электроэнергии во всем мире (179 стран) за 2019 год - 22490 млрд. кВт∙ч"
   ]
  },
  {
   "cell_type": "code",
   "execution_count": 161,
   "id": "4c4a770d",
   "metadata": {
    "ExecuteTime": {
     "end_time": "2022-10-10T19:24:35.638535Z",
     "start_time": "2022-10-10T19:24:35.627785Z"
    }
   },
   "outputs": [
    {
     "data": {
      "text/plain": [
       "22490000000000"
      ]
     },
     "execution_count": 161,
     "metadata": {},
     "output_type": "execute_result"
    }
   ],
   "source": [
    "CAPACITY = 10 ** 9 * 22490\n",
    "CAPACITY"
   ]
  },
  {
   "cell_type": "code",
   "execution_count": 162,
   "id": "5f7b10be",
   "metadata": {
    "ExecuteTime": {
     "end_time": "2022-10-10T19:24:36.216962Z",
     "start_time": "2022-10-10T19:24:35.884924Z"
    }
   },
   "outputs": [
    {
     "data": {
      "text/html": [
       "<div>\n",
       "<style scoped>\n",
       "    .dataframe tbody tr th:only-of-type {\n",
       "        vertical-align: middle;\n",
       "    }\n",
       "\n",
       "    .dataframe tbody tr th {\n",
       "        vertical-align: top;\n",
       "    }\n",
       "\n",
       "    .dataframe thead th {\n",
       "        text-align: right;\n",
       "    }\n",
       "</style>\n",
       "<table border=\"1\" class=\"dataframe\">\n",
       "  <thead>\n",
       "    <tr style=\"text-align: right;\">\n",
       "      <th></th>\n",
       "      <th>Rank</th>\n",
       "      <th>Previous Rank</th>\n",
       "      <th>First Appearance</th>\n",
       "      <th>First Rank</th>\n",
       "      <th>Name</th>\n",
       "      <th>Computer</th>\n",
       "      <th>Site</th>\n",
       "      <th>Manufacturer</th>\n",
       "      <th>Country</th>\n",
       "      <th>Year</th>\n",
       "      <th>...</th>\n",
       "      <th>Accelerator/Co-Processor</th>\n",
       "      <th>Cores per Socket</th>\n",
       "      <th>Processor Generation</th>\n",
       "      <th>System Model</th>\n",
       "      <th>System Family</th>\n",
       "      <th>Interconnect Family</th>\n",
       "      <th>Interconnect</th>\n",
       "      <th>Continent</th>\n",
       "      <th>Site ID</th>\n",
       "      <th>System ID</th>\n",
       "    </tr>\n",
       "  </thead>\n",
       "  <tbody>\n",
       "    <tr>\n",
       "      <th>0</th>\n",
       "      <td>1</td>\n",
       "      <td>NaN</td>\n",
       "      <td>59</td>\n",
       "      <td>1</td>\n",
       "      <td>Frontier</td>\n",
       "      <td>HPE Cray EX235a, AMD Optimized 3rd Generation ...</td>\n",
       "      <td>DOE/SC/Oak Ridge National Laboratory</td>\n",
       "      <td>HPE</td>\n",
       "      <td>United States</td>\n",
       "      <td>2021</td>\n",
       "      <td>...</td>\n",
       "      <td>AMD Instinct MI250X</td>\n",
       "      <td>64</td>\n",
       "      <td>AMD Milan</td>\n",
       "      <td>HPE Cray EX235a</td>\n",
       "      <td>HPE Cray EX</td>\n",
       "      <td>Gigabit Ethernet</td>\n",
       "      <td>Slingshot-11</td>\n",
       "      <td>North America</td>\n",
       "      <td>48553</td>\n",
       "      <td>180047</td>\n",
       "    </tr>\n",
       "    <tr>\n",
       "      <th>1</th>\n",
       "      <td>2</td>\n",
       "      <td>1.0</td>\n",
       "      <td>55</td>\n",
       "      <td>1</td>\n",
       "      <td>Supercomputer Fugaku</td>\n",
       "      <td>Supercomputer Fugaku, A64FX 48C 2.2GHz, Tofu i...</td>\n",
       "      <td>RIKEN Center for Computational Science</td>\n",
       "      <td>Fujitsu</td>\n",
       "      <td>Japan</td>\n",
       "      <td>2020</td>\n",
       "      <td>...</td>\n",
       "      <td>None</td>\n",
       "      <td>48</td>\n",
       "      <td>Fujitsu A64FX</td>\n",
       "      <td>Supercomputer Fugaku</td>\n",
       "      <td>Fujitsu Cluster</td>\n",
       "      <td>Proprietary Network</td>\n",
       "      <td>Tofu interconnect D</td>\n",
       "      <td>Asia</td>\n",
       "      <td>50831</td>\n",
       "      <td>179807</td>\n",
       "    </tr>\n",
       "    <tr>\n",
       "      <th>2</th>\n",
       "      <td>3</td>\n",
       "      <td>NaN</td>\n",
       "      <td>59</td>\n",
       "      <td>3</td>\n",
       "      <td>LUMI</td>\n",
       "      <td>HPE Cray EX235a, AMD Optimized 3rd Generation ...</td>\n",
       "      <td>EuroHPC/CSC</td>\n",
       "      <td>HPE</td>\n",
       "      <td>Finland</td>\n",
       "      <td>2022</td>\n",
       "      <td>...</td>\n",
       "      <td>AMD Instinct MI250X</td>\n",
       "      <td>64</td>\n",
       "      <td>AMD Milan</td>\n",
       "      <td>HPE Cray EX235a</td>\n",
       "      <td>HPE Cray EX</td>\n",
       "      <td>Gigabit Ethernet</td>\n",
       "      <td>Slingshot-11</td>\n",
       "      <td>Europe</td>\n",
       "      <td>50908</td>\n",
       "      <td>180048</td>\n",
       "    </tr>\n",
       "    <tr>\n",
       "      <th>3</th>\n",
       "      <td>4</td>\n",
       "      <td>2.0</td>\n",
       "      <td>51</td>\n",
       "      <td>1</td>\n",
       "      <td>Summit</td>\n",
       "      <td>IBM Power System AC922, IBM POWER9 22C 3.07GHz...</td>\n",
       "      <td>DOE/SC/Oak Ridge National Laboratory</td>\n",
       "      <td>IBM</td>\n",
       "      <td>United States</td>\n",
       "      <td>2018</td>\n",
       "      <td>...</td>\n",
       "      <td>NVIDIA Volta GV100</td>\n",
       "      <td>22</td>\n",
       "      <td>IBM POWER9</td>\n",
       "      <td>IBM Power System AC922</td>\n",
       "      <td>IBM Power Systems</td>\n",
       "      <td>Infiniband</td>\n",
       "      <td>Dual-rail Mellanox EDR Infiniband</td>\n",
       "      <td>North America</td>\n",
       "      <td>48553</td>\n",
       "      <td>179397</td>\n",
       "    </tr>\n",
       "    <tr>\n",
       "      <th>4</th>\n",
       "      <td>5</td>\n",
       "      <td>3.0</td>\n",
       "      <td>51</td>\n",
       "      <td>3</td>\n",
       "      <td>Sierra</td>\n",
       "      <td>IBM Power System AC922, IBM POWER9 22C 3.1GHz,...</td>\n",
       "      <td>DOE/NNSA/LLNL</td>\n",
       "      <td>IBM / NVIDIA / Mellanox</td>\n",
       "      <td>United States</td>\n",
       "      <td>2018</td>\n",
       "      <td>...</td>\n",
       "      <td>NVIDIA Volta GV100</td>\n",
       "      <td>22</td>\n",
       "      <td>IBM POWER9</td>\n",
       "      <td>IBM Power System AC922</td>\n",
       "      <td>IBM Power Systems</td>\n",
       "      <td>Infiniband</td>\n",
       "      <td>Dual-rail Mellanox EDR Infiniband</td>\n",
       "      <td>North America</td>\n",
       "      <td>49763</td>\n",
       "      <td>179398</td>\n",
       "    </tr>\n",
       "    <tr>\n",
       "      <th>...</th>\n",
       "      <td>...</td>\n",
       "      <td>...</td>\n",
       "      <td>...</td>\n",
       "      <td>...</td>\n",
       "      <td>...</td>\n",
       "      <td>...</td>\n",
       "      <td>...</td>\n",
       "      <td>...</td>\n",
       "      <td>...</td>\n",
       "      <td>...</td>\n",
       "      <td>...</td>\n",
       "      <td>...</td>\n",
       "      <td>...</td>\n",
       "      <td>...</td>\n",
       "      <td>...</td>\n",
       "      <td>...</td>\n",
       "      <td>...</td>\n",
       "      <td>...</td>\n",
       "      <td>...</td>\n",
       "      <td>...</td>\n",
       "      <td>...</td>\n",
       "    </tr>\n",
       "    <tr>\n",
       "      <th>495</th>\n",
       "      <td>496</td>\n",
       "      <td>461.0</td>\n",
       "      <td>51</td>\n",
       "      <td>115</td>\n",
       "      <td>Software Company (M) A6</td>\n",
       "      <td>Lenovo C1040, Xeon E5-2673v4 20C 2.3GHz, 40G E...</td>\n",
       "      <td>Hosting Services</td>\n",
       "      <td>Lenovo</td>\n",
       "      <td>United States</td>\n",
       "      <td>2018</td>\n",
       "      <td>...</td>\n",
       "      <td>None</td>\n",
       "      <td>20</td>\n",
       "      <td>Intel Xeon E5 (Broadwell)</td>\n",
       "      <td>Lenovo C1040</td>\n",
       "      <td>Lenovo Cluster</td>\n",
       "      <td>Gigabit Ethernet</td>\n",
       "      <td>40G Ethernet</td>\n",
       "      <td>North America</td>\n",
       "      <td>50171</td>\n",
       "      <td>179346</td>\n",
       "    </tr>\n",
       "    <tr>\n",
       "      <th>496</th>\n",
       "      <td>497</td>\n",
       "      <td>462.0</td>\n",
       "      <td>51</td>\n",
       "      <td>116</td>\n",
       "      <td>Software Company (M) A4</td>\n",
       "      <td>Lenovo C1040, Xeon E5-2673v4 20C 2.3GHz, 40G E...</td>\n",
       "      <td>Hosting Services</td>\n",
       "      <td>Lenovo</td>\n",
       "      <td>United States</td>\n",
       "      <td>2018</td>\n",
       "      <td>...</td>\n",
       "      <td>None</td>\n",
       "      <td>20</td>\n",
       "      <td>Intel Xeon E5 (Broadwell)</td>\n",
       "      <td>Lenovo C1040</td>\n",
       "      <td>Lenovo Cluster</td>\n",
       "      <td>Gigabit Ethernet</td>\n",
       "      <td>40G Ethernet</td>\n",
       "      <td>North America</td>\n",
       "      <td>50171</td>\n",
       "      <td>179347</td>\n",
       "    </tr>\n",
       "    <tr>\n",
       "      <th>497</th>\n",
       "      <td>498</td>\n",
       "      <td>463.0</td>\n",
       "      <td>51</td>\n",
       "      <td>117</td>\n",
       "      <td>Software Company (M) A3</td>\n",
       "      <td>Lenovo C1040, Xeon E5-2673v4 20C 2.3GHz, 40G E...</td>\n",
       "      <td>Hosting Services</td>\n",
       "      <td>Lenovo</td>\n",
       "      <td>United States</td>\n",
       "      <td>2018</td>\n",
       "      <td>...</td>\n",
       "      <td>None</td>\n",
       "      <td>20</td>\n",
       "      <td>Intel Xeon E5 (Broadwell)</td>\n",
       "      <td>Lenovo C1040</td>\n",
       "      <td>Lenovo Cluster</td>\n",
       "      <td>Gigabit Ethernet</td>\n",
       "      <td>40G Ethernet</td>\n",
       "      <td>North America</td>\n",
       "      <td>50171</td>\n",
       "      <td>179348</td>\n",
       "    </tr>\n",
       "    <tr>\n",
       "      <th>498</th>\n",
       "      <td>499</td>\n",
       "      <td>464.0</td>\n",
       "      <td>51</td>\n",
       "      <td>118</td>\n",
       "      <td>Software Company (M) A2</td>\n",
       "      <td>Lenovo C1040, Xeon E5-2673v4 20C 2.3GHz, 40G E...</td>\n",
       "      <td>Hosting Services</td>\n",
       "      <td>Lenovo</td>\n",
       "      <td>United States</td>\n",
       "      <td>2017</td>\n",
       "      <td>...</td>\n",
       "      <td>None</td>\n",
       "      <td>20</td>\n",
       "      <td>Intel Xeon E5 (Broadwell)</td>\n",
       "      <td>Lenovo C1040</td>\n",
       "      <td>Lenovo Cluster</td>\n",
       "      <td>Gigabit Ethernet</td>\n",
       "      <td>40G Ethernet</td>\n",
       "      <td>North America</td>\n",
       "      <td>50171</td>\n",
       "      <td>179349</td>\n",
       "    </tr>\n",
       "    <tr>\n",
       "      <th>499</th>\n",
       "      <td>500</td>\n",
       "      <td>465.0</td>\n",
       "      <td>51</td>\n",
       "      <td>119</td>\n",
       "      <td>Software Company (M) A1</td>\n",
       "      <td>Lenovo C1040, Xeon E5-2673v4 20C 2.3GHz, 40G E...</td>\n",
       "      <td>Hosting Services</td>\n",
       "      <td>Lenovo</td>\n",
       "      <td>United States</td>\n",
       "      <td>2017</td>\n",
       "      <td>...</td>\n",
       "      <td>None</td>\n",
       "      <td>20</td>\n",
       "      <td>Intel Xeon E5 (Broadwell)</td>\n",
       "      <td>Lenovo C1040</td>\n",
       "      <td>Lenovo Cluster</td>\n",
       "      <td>Gigabit Ethernet</td>\n",
       "      <td>40G Ethernet</td>\n",
       "      <td>North America</td>\n",
       "      <td>50171</td>\n",
       "      <td>179350</td>\n",
       "    </tr>\n",
       "  </tbody>\n",
       "</table>\n",
       "<p>500 rows × 38 columns</p>\n",
       "</div>"
      ],
      "text/plain": [
       "     Rank  Previous Rank  First Appearance  First Rank  \\\n",
       "0       1            NaN                59           1   \n",
       "1       2            1.0                55           1   \n",
       "2       3            NaN                59           3   \n",
       "3       4            2.0                51           1   \n",
       "4       5            3.0                51           3   \n",
       "..    ...            ...               ...         ...   \n",
       "495   496          461.0                51         115   \n",
       "496   497          462.0                51         116   \n",
       "497   498          463.0                51         117   \n",
       "498   499          464.0                51         118   \n",
       "499   500          465.0                51         119   \n",
       "\n",
       "                        Name  \\\n",
       "0                   Frontier   \n",
       "1       Supercomputer Fugaku   \n",
       "2                       LUMI   \n",
       "3                     Summit   \n",
       "4                     Sierra   \n",
       "..                       ...   \n",
       "495  Software Company (M) A6   \n",
       "496  Software Company (M) A4   \n",
       "497  Software Company (M) A3   \n",
       "498  Software Company (M) A2   \n",
       "499  Software Company (M) A1   \n",
       "\n",
       "                                              Computer  \\\n",
       "0    HPE Cray EX235a, AMD Optimized 3rd Generation ...   \n",
       "1    Supercomputer Fugaku, A64FX 48C 2.2GHz, Tofu i...   \n",
       "2    HPE Cray EX235a, AMD Optimized 3rd Generation ...   \n",
       "3    IBM Power System AC922, IBM POWER9 22C 3.07GHz...   \n",
       "4    IBM Power System AC922, IBM POWER9 22C 3.1GHz,...   \n",
       "..                                                 ...   \n",
       "495  Lenovo C1040, Xeon E5-2673v4 20C 2.3GHz, 40G E...   \n",
       "496  Lenovo C1040, Xeon E5-2673v4 20C 2.3GHz, 40G E...   \n",
       "497  Lenovo C1040, Xeon E5-2673v4 20C 2.3GHz, 40G E...   \n",
       "498  Lenovo C1040, Xeon E5-2673v4 20C 2.3GHz, 40G E...   \n",
       "499  Lenovo C1040, Xeon E5-2673v4 20C 2.3GHz, 40G E...   \n",
       "\n",
       "                                       Site             Manufacturer  \\\n",
       "0      DOE/SC/Oak Ridge National Laboratory                      HPE   \n",
       "1    RIKEN Center for Computational Science                  Fujitsu   \n",
       "2                               EuroHPC/CSC                      HPE   \n",
       "3      DOE/SC/Oak Ridge National Laboratory                      IBM   \n",
       "4                             DOE/NNSA/LLNL  IBM / NVIDIA / Mellanox   \n",
       "..                                      ...                      ...   \n",
       "495                        Hosting Services                   Lenovo   \n",
       "496                        Hosting Services                   Lenovo   \n",
       "497                        Hosting Services                   Lenovo   \n",
       "498                        Hosting Services                   Lenovo   \n",
       "499                        Hosting Services                   Lenovo   \n",
       "\n",
       "           Country  Year  ... Accelerator/Co-Processor  Cores per Socket  \\\n",
       "0    United States  2021  ...      AMD Instinct MI250X                64   \n",
       "1            Japan  2020  ...                     None                48   \n",
       "2          Finland  2022  ...      AMD Instinct MI250X                64   \n",
       "3    United States  2018  ...       NVIDIA Volta GV100                22   \n",
       "4    United States  2018  ...       NVIDIA Volta GV100                22   \n",
       "..             ...   ...  ...                      ...               ...   \n",
       "495  United States  2018  ...                     None                20   \n",
       "496  United States  2018  ...                     None                20   \n",
       "497  United States  2018  ...                     None                20   \n",
       "498  United States  2017  ...                     None                20   \n",
       "499  United States  2017  ...                     None                20   \n",
       "\n",
       "          Processor Generation            System Model       System Family  \\\n",
       "0                    AMD Milan         HPE Cray EX235a         HPE Cray EX   \n",
       "1                Fujitsu A64FX    Supercomputer Fugaku     Fujitsu Cluster   \n",
       "2                    AMD Milan         HPE Cray EX235a         HPE Cray EX   \n",
       "3                   IBM POWER9  IBM Power System AC922   IBM Power Systems   \n",
       "4                   IBM POWER9  IBM Power System AC922   IBM Power Systems   \n",
       "..                         ...                     ...                 ...   \n",
       "495  Intel Xeon E5 (Broadwell)            Lenovo C1040      Lenovo Cluster   \n",
       "496  Intel Xeon E5 (Broadwell)            Lenovo C1040      Lenovo Cluster   \n",
       "497  Intel Xeon E5 (Broadwell)            Lenovo C1040      Lenovo Cluster   \n",
       "498  Intel Xeon E5 (Broadwell)            Lenovo C1040      Lenovo Cluster   \n",
       "499  Intel Xeon E5 (Broadwell)            Lenovo C1040      Lenovo Cluster   \n",
       "\n",
       "     Interconnect Family                       Interconnect      Continent  \\\n",
       "0       Gigabit Ethernet                       Slingshot-11  North America   \n",
       "1    Proprietary Network                Tofu interconnect D           Asia   \n",
       "2       Gigabit Ethernet                       Slingshot-11         Europe   \n",
       "3             Infiniband  Dual-rail Mellanox EDR Infiniband  North America   \n",
       "4             Infiniband  Dual-rail Mellanox EDR Infiniband  North America   \n",
       "..                   ...                                ...            ...   \n",
       "495     Gigabit Ethernet                       40G Ethernet  North America   \n",
       "496     Gigabit Ethernet                       40G Ethernet  North America   \n",
       "497     Gigabit Ethernet                       40G Ethernet  North America   \n",
       "498     Gigabit Ethernet                       40G Ethernet  North America   \n",
       "499     Gigabit Ethernet                       40G Ethernet  North America   \n",
       "\n",
       "     Site ID System ID  \n",
       "0      48553    180047  \n",
       "1      50831    179807  \n",
       "2      50908    180048  \n",
       "3      48553    179397  \n",
       "4      49763    179398  \n",
       "..       ...       ...  \n",
       "495    50171    179346  \n",
       "496    50171    179347  \n",
       "497    50171    179348  \n",
       "498    50171    179349  \n",
       "499    50171    179350  \n",
       "\n",
       "[500 rows x 38 columns]"
      ]
     },
     "execution_count": 162,
     "metadata": {},
     "output_type": "execute_result"
    }
   ],
   "source": [
    "df = pd.read_excel(\"TOP500_202206.xlsx\")\n",
    "df"
   ]
  },
  {
   "cell_type": "markdown",
   "id": "6d7c4fe5",
   "metadata": {},
   "source": [
    "### Возьмём числовые признаки  и используя метод ближайших соседей восстановим недостающие фичи."
   ]
  },
  {
   "cell_type": "code",
   "execution_count": 163,
   "id": "cd448f26",
   "metadata": {
    "ExecuteTime": {
     "end_time": "2022-10-10T19:24:36.669587Z",
     "start_time": "2022-10-10T19:24:36.621123Z"
    }
   },
   "outputs": [],
   "source": [
    "from sklearn.impute import KNNImputer\n",
    "\n",
    "imputer = KNNImputer(n_neighbors=10)\n",
    "numeric_df = df.select_dtypes(include=['float64', \"int64\"])\n",
    "full_df = imputer.fit_transform(numeric_df)\n",
    "power_col = list(numeric_df.columns).index(\"Power (kW)\")"
   ]
  },
  {
   "cell_type": "code",
   "execution_count": 164,
   "id": "8682b675",
   "metadata": {
    "ExecuteTime": {
     "end_time": "2022-10-10T19:24:37.026078Z",
     "start_time": "2022-10-10T19:24:37.014078Z"
    }
   },
   "outputs": [
    {
     "name": "stdout",
     "output_type": "stream",
     "text": [
      "Сумма энергопотребления топ500=716677.925 кВт.\n",
      "Тогда доля от всего мирового потребления=3.186651511783015e-06%\n"
     ]
    }
   ],
   "source": [
    "total_power_sum = full_df[:, power_col].sum()\n",
    "ratio = total_power_sum / CAPACITY * 100\n",
    "print(f\"Сумма энергопотребления топ500={total_power_sum} кВт.\\nТогда доля от всего мирового потребления={ratio}%\")"
   ]
  }
 ],
 "metadata": {
  "kernelspec": {
   "display_name": "Python 3",
   "language": "python",
   "name": "python3"
  },
  "language_info": {
   "codemirror_mode": {
    "name": "ipython",
    "version": 3
   },
   "file_extension": ".py",
   "mimetype": "text/x-python",
   "name": "python",
   "nbconvert_exporter": "python",
   "pygments_lexer": "ipython3",
   "version": "3.8.8"
  }
 },
 "nbformat": 4,
 "nbformat_minor": 5
}
