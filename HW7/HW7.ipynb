{
 "cells": [
  {
   "cell_type": "code",
   "execution_count": 1,
   "id": "f230ebc5",
   "metadata": {
    "ExecuteTime": {
     "end_time": "2022-12-10T20:37:33.924240Z",
     "start_time": "2022-12-10T20:37:32.006047Z"
    }
   },
   "outputs": [],
   "source": [
    "import math\n",
    "import time\n",
    "import multiprocessing\n",
    "\n",
    "from SALib.sample import saltelli\n",
    "from SALib.analyze import sobol\n",
    "from numba import njit\n",
    "import numpy as np"
   ]
  },
  {
   "cell_type": "code",
   "execution_count": 6,
   "id": "ad5830b5",
   "metadata": {
    "ExecuteTime": {
     "end_time": "2022-12-10T20:37:36.089323Z",
     "start_time": "2022-12-10T20:37:36.079322Z"
    }
   },
   "outputs": [],
   "source": [
    "a = 2\n",
    "b = 0.1"
   ]
  },
  {
   "cell_type": "code",
   "execution_count": 7,
   "id": "9f814dee",
   "metadata": {
    "ExecuteTime": {
     "end_time": "2022-12-10T20:37:36.293388Z",
     "start_time": "2022-12-10T20:37:36.272402Z"
    }
   },
   "outputs": [],
   "source": [
    "problem = {\n",
    "    \"num_vars\": 4,\n",
    "    \"names\": [\"x1\", \"x2\", \"x3\", \"x4\"],\n",
    "    'bounds': [\n",
    "        [-math.pi, math.pi],\n",
    "        [-math.pi, math.pi],\n",
    "        [-math.pi, math.pi],\n",
    "        [-math.pi, math.pi],\n",
    "    ]\n",
    "}"
   ]
  },
  {
   "cell_type": "code",
   "execution_count": 12,
   "id": "0970b18d",
   "metadata": {
    "ExecuteTime": {
     "end_time": "2022-12-10T20:37:48.627768Z",
     "start_time": "2022-12-10T20:37:48.610803Z"
    }
   },
   "outputs": [],
   "source": [
    "def timer(func):\n",
    "    def wrapper(*args):\n",
    "        print(f\"Start {func.__name__}\")\n",
    "        start = time.time()\n",
    "        response = func(*args)\n",
    "        print(f\"func.__name__ completed via {time.time() - start} sec.\\n\")\n",
    "        return response\n",
    "    return wrapper"
   ]
  },
  {
   "cell_type": "code",
   "execution_count": 13,
   "id": "e022ae29",
   "metadata": {
    "ExecuteTime": {
     "end_time": "2022-12-10T20:37:49.111988Z",
     "start_time": "2022-12-10T20:37:49.100986Z"
    }
   },
   "outputs": [],
   "source": [
    "def multidimensional_scalar_function(x):\n",
    "    return x[0] ** a + math.exp(x[1]) + b * x[2] * math.sin(x[3])"
   ]
  },
  {
   "cell_type": "code",
   "execution_count": 14,
   "id": "84dcdfd9",
   "metadata": {
    "ExecuteTime": {
     "end_time": "2022-12-10T20:37:49.347985Z",
     "start_time": "2022-12-10T20:37:49.332987Z"
    }
   },
   "outputs": [],
   "source": [
    "@timer\n",
    "def generate_samples(n):\n",
    "    param_values = saltelli.sample(problem, n)\n",
    "    return param_values"
   ]
  },
  {
   "cell_type": "code",
   "execution_count": 15,
   "id": "2cbf6879",
   "metadata": {
    "ExecuteTime": {
     "end_time": "2022-12-10T20:37:49.506810Z",
     "start_time": "2022-12-10T20:37:49.501850Z"
    }
   },
   "outputs": [],
   "source": [
    "@timer\n",
    "def generate_scalars(param_values):\n",
    "    responses = np.zeros(param_values.shape[0])\n",
    "    for idx, x, in enumerate(param_values):\n",
    "        responses[idx] = multidimensional_scalar_function(x)\n",
    "    return responses"
   ]
  },
  {
   "cell_type": "markdown",
   "id": "46ef9099",
   "metadata": {
    "ExecuteTime": {
     "end_time": "2022-12-10T18:53:14.705023Z",
     "start_time": "2022-12-10T18:53:14.697055Z"
    }
   },
   "source": [
    "### Обычный режим работы"
   ]
  },
  {
   "cell_type": "code",
   "execution_count": 16,
   "id": "d0d4bd20",
   "metadata": {
    "ExecuteTime": {
     "end_time": "2022-12-10T20:42:26.463430Z",
     "start_time": "2022-12-10T20:37:50.579755Z"
    }
   },
   "outputs": [
    {
     "name": "stdout",
     "output_type": "stream",
     "text": [
      "Start generate_samples\n"
     ]
    },
    {
     "name": "stderr",
     "output_type": "stream",
     "text": [
      "<ipython-input-14-a3c3c7e8e3b9>:3: DeprecationWarning: `salib.sample.saltelli` will be removed in SALib 1.5. Please use `salib.sample.sobol`\n",
      "  param_values = saltelli.sample(problem, n)\n",
      "C:\\Users\\Egor_Pilat\\Anaconda3\\lib\\site-packages\\SALib\\sample\\saltelli.py:109: UserWarning: \n",
      "        Convergence properties of the Sobol' sequence is only valid if\n",
      "        `N` (1000000) is equal to `2^n`.\n",
      "        \n",
      "  warnings.warn(msg)\n"
     ]
    },
    {
     "name": "stdout",
     "output_type": "stream",
     "text": [
      "func.__name__ completed via 63.156038999557495 sec.\n",
      "\n",
      "Start generate_scalars\n",
      "func.__name__ completed via 16.29341197013855 sec.\n",
      "\n",
      "Start analyze by Sobol method\n",
      "          ST   ST_conf\n",
      "x1  0.229218  0.000655\n",
      "x2  0.770349  0.002010\n",
      "x3  0.000435  0.000002\n",
      "x4  0.000435  0.000002\n",
      "              S1   S1_conf\n",
      "x1  2.292226e-01  0.001254\n",
      "x2  7.703492e-01  0.002994\n",
      "x3 -4.440148e-07  0.000057\n",
      "x4  4.625675e-08  0.000055\n",
      "                S2   S2_conf\n",
      "(x1, x2) -0.000008  0.002284\n",
      "(x1, x3) -0.000005  0.001760\n",
      "(x1, x4) -0.000005  0.001757\n",
      "(x2, x3)  0.000002  0.004805\n",
      "(x2, x4)  0.000002  0.004808\n",
      "(x3, x4)  0.000436  0.000075\n",
      "Sobol spent 196.41722559928894\n",
      "First-order Indices\n",
      "[ 2.29222587e-01  7.70349235e-01 -4.44014846e-07  4.62567455e-08]\n",
      "Total Indices for each variable\n",
      "[2.29218438e-01 7.70348610e-01 4.35464980e-04 4.35463593e-04]\n",
      "Second-order Indices\n",
      "[[            nan -7.98788276e-06 -4.89601633e-06 -5.35835155e-06]\n",
      " [            nan             nan  1.84800406e-06  1.94148559e-06]\n",
      " [            nan             nan             nan  4.35910100e-04]\n",
      " [            nan             nan             nan             nan]]\n"
     ]
    }
   ],
   "source": [
    "n = 1000000\n",
    "responses = generate_samples(n)\n",
    "scalars = generate_scalars(responses)\n",
    "print(f\"Start analyze by Sobol method\")\n",
    "start = time.time()\n",
    "Si = sobol.analyze(problem, scalars, print_to_console=True)\n",
    "print(f\"Sobol spent {time.time() - start}\")\n",
    "print('First-order Indices')\n",
    "print(Si['S1'])\n",
    "print('Total Indices for each variable')\n",
    "print(Si['ST'])\n",
    "print('Second-order Indices')\n",
    "print(Si['S2'])"
   ]
  },
  {
   "cell_type": "markdown",
   "id": "601a79ec",
   "metadata": {},
   "source": [
    "###  Добавим njit"
   ]
  },
  {
   "cell_type": "code",
   "execution_count": 17,
   "id": "0a7cbf85",
   "metadata": {
    "ExecuteTime": {
     "end_time": "2022-12-10T20:46:55.110839Z",
     "start_time": "2022-12-10T20:42:26.465383Z"
    }
   },
   "outputs": [
    {
     "name": "stdout",
     "output_type": "stream",
     "text": [
      "Start generate_samples\n"
     ]
    },
    {
     "name": "stderr",
     "output_type": "stream",
     "text": [
      "<ipython-input-14-a3c3c7e8e3b9>:3: DeprecationWarning: `salib.sample.saltelli` will be removed in SALib 1.5. Please use `salib.sample.sobol`\n",
      "  param_values = saltelli.sample(problem, n)\n",
      "C:\\Users\\Egor_Pilat\\Anaconda3\\lib\\site-packages\\SALib\\sample\\saltelli.py:109: UserWarning: \n",
      "        Convergence properties of the Sobol' sequence is only valid if\n",
      "        `N` (1000000) is equal to `2^n`.\n",
      "        \n",
      "  warnings.warn(msg)\n"
     ]
    },
    {
     "name": "stdout",
     "output_type": "stream",
     "text": [
      "func.__name__ completed via 67.6929099559784 sec.\n",
      "\n",
      "Start generate_scalars\n",
      "func.__name__ completed via 5.984112501144409 sec.\n",
      "\n",
      "Start analyze by Sobol method\n",
      "          ST   ST_conf\n",
      "x1  0.229218  0.000740\n",
      "x2  0.770349  0.001945\n",
      "x3  0.000435  0.000002\n",
      "x4  0.000435  0.000002\n",
      "              S1   S1_conf\n",
      "x1  2.292226e-01  0.001545\n",
      "x2  7.703492e-01  0.002649\n",
      "x3 -4.440148e-07  0.000059\n",
      "x4  4.625675e-08  0.000055\n",
      "                S2   S2_conf\n",
      "(x1, x2) -0.000008  0.002662\n",
      "(x1, x3) -0.000005  0.001958\n",
      "(x1, x4) -0.000005  0.001959\n",
      "(x2, x3)  0.000002  0.004720\n",
      "(x2, x4)  0.000002  0.004713\n",
      "(x3, x4)  0.000436  0.000078\n",
      "Sobol spent 194.91741228103638\n",
      "First-order Indices\n",
      "[ 2.29222587e-01  7.70349235e-01 -4.44014846e-07  4.62567455e-08]\n",
      "Total Indices for each variable\n",
      "[2.29218438e-01 7.70348610e-01 4.35464980e-04 4.35463593e-04]\n",
      "Second-order Indices\n",
      "[[            nan -7.98788276e-06 -4.89601633e-06 -5.35835155e-06]\n",
      " [            nan             nan  1.84800406e-06  1.94148559e-06]\n",
      " [            nan             nan             nan  4.35910100e-04]\n",
      " [            nan             nan             nan             nan]]\n"
     ]
    }
   ],
   "source": [
    "@njit\n",
    "def multidimensional_scalar_function(x):\n",
    "    return x[0] ** a + math.exp(x[1]) + b * x[2] * math.sin(x[3])\n",
    "\n",
    "n = 1000000\n",
    "responses = generate_samples(n)\n",
    "scalars = generate_scalars(responses)\n",
    "print(f\"Start analyze by Sobol method\")\n",
    "start = time.time()\n",
    "Si = sobol.analyze(problem, scalars, print_to_console=True)\n",
    "print(f\"Sobol spent {time.time() - start}\")\n",
    "print('First-order Indices')\n",
    "print(Si['S1'])\n",
    "print('Total Indices for each variable')\n",
    "print(Si['ST'])\n",
    "print('Second-order Indices')\n",
    "print(Si['S2'])"
   ]
  },
  {
   "cell_type": "markdown",
   "id": "b9169f94",
   "metadata": {},
   "source": [
    "### Добавим параметр для распараллеливания внутри SALib"
   ]
  },
  {
   "cell_type": "code",
   "execution_count": 18,
   "id": "c221e6fd",
   "metadata": {
    "ExecuteTime": {
     "end_time": "2022-12-10T20:50:32.262145Z",
     "start_time": "2022-12-10T20:46:55.113841Z"
    }
   },
   "outputs": [
    {
     "name": "stdout",
     "output_type": "stream",
     "text": [
      "Start generate_samples\n"
     ]
    },
    {
     "name": "stderr",
     "output_type": "stream",
     "text": [
      "<ipython-input-14-a3c3c7e8e3b9>:3: DeprecationWarning: `salib.sample.saltelli` will be removed in SALib 1.5. Please use `salib.sample.sobol`\n",
      "  param_values = saltelli.sample(problem, n)\n",
      "C:\\Users\\Egor_Pilat\\Anaconda3\\lib\\site-packages\\SALib\\sample\\saltelli.py:109: UserWarning: \n",
      "        Convergence properties of the Sobol' sequence is only valid if\n",
      "        `N` (1000000) is equal to `2^n`.\n",
      "        \n",
      "  warnings.warn(msg)\n"
     ]
    },
    {
     "name": "stdout",
     "output_type": "stream",
     "text": [
      "func.__name__ completed via 61.56002449989319 sec.\n",
      "\n",
      "Start generate_scalars\n",
      "func.__name__ completed via 5.127791881561279 sec.\n",
      "\n",
      "Start analyze by Sobol method\n",
      "          ST   ST_conf\n",
      "x1  0.229218  0.000850\n",
      "x2  0.770349  0.001644\n",
      "x3  0.000435  0.000002\n",
      "x4  0.000435  0.000002\n",
      "              S1   S1_conf\n",
      "x1  2.292226e-01  0.001157\n",
      "x2  7.703492e-01  0.002816\n",
      "x3 -4.440148e-07  0.000059\n",
      "x4  4.625675e-08  0.000057\n",
      "                S2   S2_conf\n",
      "(x1, x2) -0.000008  0.002336\n",
      "(x1, x3) -0.000005  0.001532\n",
      "(x1, x4) -0.000005  0.001533\n",
      "(x2, x3)  0.000002  0.004476\n",
      "(x2, x4)  0.000002  0.004480\n",
      "(x3, x4)  0.000436  0.000086\n",
      "Sobol spent 150.3744809627533\n",
      "First-order Indices\n",
      "[ 2.29222587e-01  7.70349235e-01 -4.44014846e-07  4.62567455e-08]\n",
      "Total Indices for each variable\n",
      "[2.29218438e-01 7.70348610e-01 4.35464980e-04 4.35463593e-04]\n",
      "Second-order Indices\n",
      "[[            nan -7.98788276e-06 -4.89601633e-06 -5.35835155e-06]\n",
      " [            nan             nan  1.84800406e-06  1.94148559e-06]\n",
      " [            nan             nan             nan  4.35910100e-04]\n",
      " [            nan             nan             nan             nan]]\n"
     ]
    }
   ],
   "source": [
    "responses = generate_samples(n)\n",
    "scalars = generate_scalars(responses)\n",
    "print(f\"Start analyze by Sobol method\")\n",
    "start = time.time()\n",
    "Si = sobol.analyze(problem, scalars, print_to_console=True, parallel=True, n_processors=4)\n",
    "print(f\"Sobol spent {time.time() - start}\")\n",
    "print('First-order Indices')\n",
    "print(Si['S1'])\n",
    "print('Total Indices for each variable')\n",
    "print(Si['ST'])\n",
    "print('Second-order Indices')\n",
    "print(Si['S2'])"
   ]
  },
  {
   "cell_type": "markdown",
   "id": "6a9809b9",
   "metadata": {},
   "source": [
    "#### Наиболее важные параметры x1, x2 "
   ]
  }
 ],
 "metadata": {
  "kernelspec": {
   "display_name": "Python 3",
   "language": "python",
   "name": "python3"
  },
  "language_info": {
   "codemirror_mode": {
    "name": "ipython",
    "version": 3
   },
   "file_extension": ".py",
   "mimetype": "text/x-python",
   "name": "python",
   "nbconvert_exporter": "python",
   "pygments_lexer": "ipython3",
   "version": "3.8.8"
  }
 },
 "nbformat": 4,
 "nbformat_minor": 5
}
